{
 "cells": [
  {
   "cell_type": "code",
   "execution_count": 1,
   "metadata": {},
   "outputs": [
    {
     "name": "stdout",
     "output_type": "stream",
     "text": [
      "Quotient = 2\n",
      "Division By zero is NOT ALLOWED\n"
     ]
    }
   ],
   "source": [
    "def divide(n , m):\n",
    "    try:\n",
    "        quotient = int(n / m)\n",
    "        print(f\"Quotient = {quotient}\")\n",
    "    except ZeroDivisionError:\n",
    "        print(\"Division By zero is NOT ALLOWED\")\n",
    "divide(6,3)\n",
    "divide(1,0)\n"
   ]
  },
  {
   "cell_type": "code",
   "execution_count": 2,
   "metadata": {},
   "outputs": [
    {
     "name": "stdout",
     "output_type": "stream",
     "text": [
      "Value at index 3 is : 6\n",
      "Index 7 is out of range !! \tIndex should be under the range 0-3\n"
     ]
    },
    {
     "ename": "Exception",
     "evalue": "Index 7 is out of range !! ",
     "output_type": "error",
     "traceback": [
      "\u001b[1;31m---------------------------------------------------------------------------\u001b[0m",
      "\u001b[1;31mException\u001b[0m                                 Traceback (most recent call last)",
      "Cell \u001b[1;32mIn[2], line 19\u001b[0m\n\u001b[0;32m     17\u001b[0m ValueAt(\u001b[39mlist\u001b[39m,\u001b[39m7\u001b[39m)\n\u001b[0;32m     18\u001b[0m \u001b[39m# Another function\u001b[39;00m\n\u001b[1;32m---> 19\u001b[0m ValueAt2(\u001b[39mlist\u001b[39;49m,\u001b[39m7\u001b[39;49m)\n",
      "Cell \u001b[1;32mIn[2], line 11\u001b[0m, in \u001b[0;36mValueAt2\u001b[1;34m(list, i)\u001b[0m\n\u001b[0;32m      9\u001b[0m \u001b[39mdef\u001b[39;00m \u001b[39mValueAt2\u001b[39m(\u001b[39mlist\u001b[39m, i):\n\u001b[0;32m     10\u001b[0m     \u001b[39mif\u001b[39;00m(i \u001b[39m>\u001b[39m \u001b[39mlen\u001b[39m(\u001b[39mlist\u001b[39m)\u001b[39m-\u001b[39m\u001b[39m1\u001b[39m):\n\u001b[1;32m---> 11\u001b[0m         \u001b[39mraise\u001b[39;00m \u001b[39mException\u001b[39;00m(\u001b[39mf\u001b[39m\u001b[39m\"\u001b[39m\u001b[39mIndex \u001b[39m\u001b[39m{\u001b[39;00mi\u001b[39m}\u001b[39;00m\u001b[39m is out of range !! \u001b[39m\u001b[39m\"\u001b[39m)\n\u001b[0;32m     13\u001b[0m     value \u001b[39m=\u001b[39m \u001b[39mlist\u001b[39m[i]\n\u001b[0;32m     14\u001b[0m     \u001b[39mprint\u001b[39m(\u001b[39mf\u001b[39m\u001b[39m\"\u001b[39m\u001b[39mValue at index \u001b[39m\u001b[39m{\u001b[39;00mi\u001b[39m}\u001b[39;00m\u001b[39m is : \u001b[39m\u001b[39m{\u001b[39;00mvalue\u001b[39m}\u001b[39;00m\u001b[39m\"\u001b[39m)\n",
      "\u001b[1;31mException\u001b[0m: Index 7 is out of range !! "
     ]
    }
   ],
   "source": [
    "def ValueAt(list, i):\n",
    " \n",
    "    try:\n",
    "        value = list[i]\n",
    "        print(f\"Value at index {i} is : {value}\")\n",
    "    except IndexError:\n",
    "        print(f\"Index {i} is out of range !! \", end=\"\\t\")\n",
    "        print(f\"Index should be under the range 0-{len(list)-1}\")\n",
    "def ValueAt2(list, i):\n",
    "    if(i > len(list)-1):\n",
    "        raise Exception(f\"Index {i} is out of range !! \")\n",
    " \n",
    "    value = list[i]\n",
    "    print(f\"Value at index {i} is : {value}\")\n",
    "list = [2, 4, 7, 6]\n",
    "ValueAt(list, 3)\n",
    "ValueAt(list,7)\n",
    "# Another function\n",
    "ValueAt2(list,7)"
   ]
  }
 ],
 "metadata": {
  "kernelspec": {
   "display_name": "Python 3",
   "language": "python",
   "name": "python3"
  },
  "language_info": {
   "codemirror_mode": {
    "name": "ipython",
    "version": 3
   },
   "file_extension": ".py",
   "mimetype": "text/x-python",
   "name": "python",
   "nbconvert_exporter": "python",
   "pygments_lexer": "ipython3",
   "version": "3.9.13"
  },
  "orig_nbformat": 4
 },
 "nbformat": 4,
 "nbformat_minor": 2
}

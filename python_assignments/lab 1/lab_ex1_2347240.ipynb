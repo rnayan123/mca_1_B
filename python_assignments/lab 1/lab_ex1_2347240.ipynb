{
 "cells": [
  {
   "cell_type": "code",
   "execution_count": 3,
   "metadata": {},
   "outputs": [
    {
     "name": "stdout",
     "output_type": "stream",
     "text": [
      "The word 'my' appears 3 times in the paragraph.\n"
     ]
    }
   ],
   "source": [
    "\n",
    "def main():\n",
    "\n",
    "    name =\"Nayan Raj\"\n",
    "    reg = 2347240\n",
    "    para = f'My name is {name}, I have choose \"University canteen management\" as my domain my registration number is {reg}, from MCA section B'\n",
    "\n",
    "    word = \"my\" \n",
    "    frequency = count_word_frequency(para, word)\n",
    "    print(f\"The word '{word}' appears {frequency} times in the paragraph.\")\n",
    "def count_word_frequency(paragraph, word): \n",
    "    words_list = paragraph.split()\n",
    "    count = 0\n",
    "    for w in words_list:\n",
    "        if w.lower().strip('.,') == word.lower().strip('.,'):\n",
    "            count += 1\n",
    "    return count\n",
    "\n",
    "main()"
   ]
  },
  {
   "cell_type": "code",
   "execution_count": 7,
   "metadata": {},
   "outputs": [
    {
     "name": "stdout",
     "output_type": "stream",
     "text": [
      "Data Types of Selected Specific Elements:\n",
      "My - string\n",
      "name - string\n",
      "is - string\n",
      "Nayan - string\n",
      "Raj - string\n",
      "I - string\n",
      "have - string\n",
      "choose - string\n",
      "\"University - string\n",
      "canteen - string\n",
      "Management\" - string\n",
      "as - string\n",
      "my - string\n",
      "domain - string\n",
      "myregistration - string\n",
      "number - string\n",
      "is - string\n",
      "2347240 - int\n",
      "from - string\n",
      "MCA - string\n",
      "section - string\n",
      "B - string\n",
      "2023 - int\n"
     ]
    }
   ],
   "source": [
    "from re import split\n",
    "\n",
    "def get_datatype(element):\n",
    "    try:\n",
    "        int(element)\n",
    "        return \"int\"\n",
    "    except ValueError:\n",
    "        pass\n",
    "\n",
    "    try:\n",
    "        float(element)\n",
    "        return \"float\"\n",
    "    except ValueError:\n",
    "        pass\n",
    "    return \"string\"\n",
    "def main():\n",
    "    name =\"Nayan Raj\"\n",
    "    reg = 2347240\n",
    "    year = 2023\n",
    "    para = f'My name is {name}, I have choose \"University canteen Management\" as my domain myregistration number is {reg}, from MCA section B {year}'\n",
    "    words = split(\" |, \", para)\n",
    "    print(\"Data Types of Selected Specific Elements:\")\n",
    "    for word in words:\n",
    "        datatype = get_datatype(word)\n",
    "        print(f\"{word} - {datatype}\")\n",
    "\n",
    "main()"
   ]
  },
  {
   "cell_type": "code",
   "execution_count": 8,
   "metadata": {},
   "outputs": [
    {
     "name": "stdout",
     "output_type": "stream",
     "text": [
      "Number of int characters in the paragraph: 11\n",
      "Number of String characters in the paragraph: 101\n",
      "Number of special characters in the paragraph: 5\n"
     ]
    }
   ],
   "source": [
    "\n",
    "def main():\n",
    "\n",
    "    alpha, numeric, special = 0, 0, 0\n",
    "    name =\"Nayan Raj\"\n",
    "    reg = 2347240\n",
    "    year = 2023\n",
    "    para= f'My name is {name}, I have choose \"University Canteen Management\" as my domain myregistration number is {reg}, @ from MCA section B {year}'\n",
    "    alphabet,num,special_ch=0,0,0\n",
    "    for x in para:\n",
    "        if x.isalpha():\n",
    "            alphabet+=1\n",
    "        elif x.isdigit():\n",
    "            num+=1\n",
    "        elif not x.isspace():\n",
    "             special_ch+=1\n",
    "\n",
    "    print(f\"Number of int characters in the paragraph: {num}\")\n",
    "    print(f\"Number of String characters in the paragraph: {alphabet}\")\n",
    "    print(f\"Number of special characters in the paragraph: {special_ch}\")\n",
    "\n",
    "main()\n"
   ]
  },
  {
   "cell_type": "code",
   "execution_count": 11,
   "metadata": {},
   "outputs": [
    {
     "name": "stdout",
     "output_type": "stream",
     "text": [
      "pop() :  {True, 101, 200.0}\n",
      "clear() :  set()\n",
      "discard(<value>) :  {'chicken wrap', True, 101, 200.0}\n",
      "{101, 'nayan'}\n"
     ]
    }
   ],
   "source": [
    "\n",
    "\n",
    "order = {101, \"chicken wrap\",200.00, True}\n",
    "\n",
    "\n",
    "order.pop()\n",
    "print(\"pop() : \",order)\n",
    "\n",
    "order = {101, \"chicken wrap\", 200.00, True}\n",
    "\n",
    "order.clear()\n",
    "print(\"clear() : \", order)\n",
    "\n",
    "\n",
    "order= {101, \"chicken wrap\", 200.00, True}\n",
    "\n",
    "order.discard(\"p\")\n",
    "print(\"discard(<value>) : \", order)\n",
    "order = {101, \"chicken wrap\", 200.00, True}\n",
    "p1={101,\"nayan\"}\n",
    "\n",
    "del (order)\n",
    "\n",
    "\n",
    "print(p1)"
   ]
  },
  {
   "cell_type": "code",
   "execution_count": 12,
   "metadata": {},
   "outputs": [
    {
     "name": "stdout",
     "output_type": "stream",
     "text": [
      "{'salary', 'id', 'food item', 'price', 'avaibility'}\n",
      "['salary', 'price', 'id', 'food item', 'avaibility']\n"
     ]
    }
   ],
   "source": [
    "order = set()\n",
    "order_details = {\"id\", \"food item\", \"price\", \"avaibility\",\"salary\"}\n",
    "order.update(order_details)\n",
    "print(order)\n",
    "sorted_list = sorted(order, reverse=True)\n",
    "print(sorted_list)"
   ]
  },
  {
   "cell_type": "code",
   "execution_count": 13,
   "metadata": {},
   "outputs": [
    {
     "name": "stdout",
     "output_type": "stream",
     "text": [
      "food_item\n",
      "price\n",
      "order_id\n",
      "avaibility\n"
     ]
    }
   ],
   "source": [
    "order = {\"order_id\", \"food_item\", \"price\", \"avaibility\"}\n",
    "d1, d2, d3, d4 = order\n",
    "print(d1)\n",
    "print(d2)\n",
    "print(d3)\n",
    "print(d4)\n"
   ]
  },
  {
   "cell_type": "code",
   "execution_count": 14,
   "metadata": {},
   "outputs": [
    {
     "name": "stdout",
     "output_type": "stream",
     "text": [
      "Count =  2\n"
     ]
    }
   ],
   "source": [
    "domain = input(\"Enter your domain name : \")\n",
    "domain = domain.replace(\" \",\"\")\n",
    "t = tuple(domain)\n",
    "letter = input(\"Eneter the letter to search : \")\n",
    "count = 0\n",
    "for i in range(len(domain)):\n",
    "    if letter == t[i]:\n",
    "        count += 1\n",
    "print(\"Count = \", count)"
   ]
  },
  {
   "cell_type": "code",
   "execution_count": 15,
   "metadata": {},
   "outputs": [
    {
     "name": "stdout",
     "output_type": "stream",
     "text": [
      "['u', 'n', 'i', 'v', 'e', 'r', 's', 'i', 't', 'y', 'c', 'a', 'n', 't', 'e', 'e', 'n', 'm', 'a', 'n', 'a', 'g', 'e', 'm', 'e', 'n', 't']\n",
      "\n",
      "Positive indexing and slicing:\n",
      "Character at index 0: u\n",
      "Characters from index 1 to 3: niv\n",
      "Characters from index 2 onwards: iversity canteen management\n",
      "\n",
      "Negative indexing and slicing:\n",
      "Character at index -1: t\n",
      "Characters from index -4 to -2: men\n",
      "Characters except the last one: university canteen managemen\n",
      "\n",
      "Using negative step:\n",
      "Reverse the string: tnemeganam neetnac ytisrevinu\n",
      "Every second character in reverse: teeaa eta tseiu\n"
     ]
    }
   ],
   "source": [
    "domain = input(\"Enter your domain name : \")\n",
    "list = list(domain.replace(\" \",\"\"))\n",
    "print(list, end=\"\\n\\n\")\n",
    "# Positive indexing and slicing\n",
    "print(\"Positive indexing and slicing:\")\n",
    "print(\"Character at index 0:\", domain[0])\n",
    "print(\"Characters from index 1 to 3:\", domain[1:4])\n",
    "print(\"Characters from index 2 onwards:\", domain[2:])\n",
    "# Negative indexing and slicing\n",
    "print(\"\\nNegative indexing and slicing:\")\n",
    "print(\"Character at index -1:\", domain[-1])\n",
    "print(\"Characters from index -4 to -2:\", domain[-4:-1])\n",
    "print(\"Characters except the last one:\", domain[:-1])\n",
    "17 # Using negative step in slicing\n",
    "print(\"\\nUsing negative step:\")\n",
    "print(\"Reverse the string:\", domain[::-1])\n",
    "print(\"Every second character in reverse:\", domain[::-2])\n"
   ]
  }
 ],
 "metadata": {
  "kernelspec": {
   "display_name": "Python 3",
   "language": "python",
   "name": "python3"
  },
  "language_info": {
   "codemirror_mode": {
    "name": "ipython",
    "version": 3
   },
   "file_extension": ".py",
   "mimetype": "text/x-python",
   "name": "python",
   "nbconvert_exporter": "python",
   "pygments_lexer": "ipython3",
   "version": "3.9.13"
  },
  "orig_nbformat": 4
 },
 "nbformat": 4,
 "nbformat_minor": 2
}

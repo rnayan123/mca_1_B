{
 "cells": [
  {
   "cell_type": "markdown",
   "metadata": {},
   "source": [
    "Q1. Create two 3×3 matrices using the random function in Numpy and perform the\n",
    "following operations. è Product (prod) è Multiplication (multiply) è Dot Product (dot)"
   ]
  },
  {
   "cell_type": "code",
   "execution_count": 1,
   "metadata": {},
   "outputs": [
    {
     "name": "stdout",
     "output_type": "stream",
     "text": [
      "[[6 5 5]\n",
      " [5 1 3]\n",
      " [9 7 3]]\n",
      "[[1 2 7]\n",
      " [7 9 6]\n",
      " [7 1 4]]\n",
      "product\n",
      "[[ 6 10 35]\n",
      " [35  9 18]\n",
      " [63  7 12]]\n",
      "multiply\n",
      "[[ 76  62  92]\n",
      " [ 33  22  53]\n",
      " [ 79  84 117]]\n",
      "dot product\n",
      "[[ 76  62  92]\n",
      " [ 33  22  53]\n",
      " [ 79  84 117]]\n"
     ]
    }
   ],
   "source": [
    "import numpy as np\n",
    "x = np.random.randint(1,10,(3,3))\n",
    "y=np.random.randint(1,10,(3,3))\n",
    "print(x)\n",
    "print(y)\n",
    "c=np.multiply(x,y)\n",
    "a=np.matmul(x,y)\n",
    "b=np.dot(x,y)\n",
    "print(\"product\")\n",
    "print(c)\n",
    "print(\"multiply\")\n",
    "print(a)\n",
    "print(\"dot product\")\n",
    "print(b)"
   ]
  },
  {
   "cell_type": "markdown",
   "metadata": {},
   "source": [
    "Q2. Perform the following set operations using the Numpy functions. è Union è Intersection\n",
    "è Set difference è XOR"
   ]
  },
  {
   "cell_type": "code",
   "execution_count": 2,
   "metadata": {},
   "outputs": [
    {
     "name": "stdout",
     "output_type": "stream",
     "text": [
      "union\n",
      "[ 1  3  5  7  9 11]\n",
      "intersection\n",
      "[1 3 5]\n",
      "set difference\n",
      "[7]\n",
      "xor\n",
      "[ 4  0  4 14  8]\n"
     ]
    }
   ],
   "source": [
    "a=np.array([1,3,5,7,3])\n",
    "b=np.array([5,3,1,9,11])\n",
    "print(\"union\")\n",
    "c=np.union1d(a,b)\n",
    "print(c)\n",
    "print(\"intersection\")\n",
    "d=np.intersect1d(a,b)\n",
    "print(d)\n",
    "print(\"set difference\")\n",
    "e=np.setdiff1d(a,b)\n",
    "print(e)\n",
    "print(\"xor\")\n",
    "f=np.bitwise_xor(a,b)\n",
    "print(f)\n"
   ]
  },
  {
   "cell_type": "markdown",
   "metadata": {},
   "source": [
    "Q3. Create a 1D array using Random function and perform the following operations. è\n",
    "Cumulative sum è Cumulative Product è Discrete difference (with n=3) è Find the unique\n",
    "elements from the array\n"
   ]
  },
  {
   "cell_type": "code",
   "execution_count": 3,
   "metadata": {},
   "outputs": [
    {
     "name": "stdout",
     "output_type": "stream",
     "text": [
      "given array\n",
      "[4 4 8 2 9 4]\n",
      "cummulative sum\n",
      "[ 4  8 16 18 27 31]\n",
      "cummulative product\n",
      "[   4   16  128  256 2304 9216]\n",
      "discrete difference\n",
      "[-14  23 -25]\n",
      "unique\n",
      "[2 4 8 9]\n"
     ]
    }
   ],
   "source": [
    "a=np.random.randint(1,10,(6))\n",
    "print(\"given array\")\n",
    "print(a)\n",
    "b=np.cumsum(a)\n",
    "print(\"cummulative sum\")\n",
    "print(b)\n",
    "print(\"cummulative product\")\n",
    "c=np.cumprod(a)\n",
    "print(c)\n",
    "print(\"discrete difference\")\n",
    "d=np.diff(a,n=3)\n",
    "print(d)\n",
    "e=np.unique(a)\n",
    "print(\"unique\")\n",
    "print(e)"
   ]
  },
  {
   "cell_type": "markdown",
   "metadata": {},
   "source": [
    "Q4. Create two 1D array and perform the Addition using zip(), add() and user defined\n",
    "function (frompyfunc())\n"
   ]
  },
  {
   "cell_type": "markdown",
   "metadata": {},
   "source": [
    "Q4. Create two 1D array and perform the Addition using zip(), add() and user defined\n",
    "function (frompyfunc())"
   ]
  },
  {
   "cell_type": "code",
   "execution_count": 5,
   "metadata": {},
   "outputs": [
    {
     "name": "stdout",
     "output_type": "stream",
     "text": [
      "first array\n",
      "[ 9 11 14 11  4]\n",
      "second array\n",
      "[15  9 14 17  1]\n",
      "zip function\n",
      "[24 20 28 28  5]\n",
      "add function\n",
      "[24 20 28 28  5]\n"
     ]
    },
    {
     "data": {
      "text/plain": [
       "array([24, 11, 14, 11,  4])"
      ]
     },
     "execution_count": 5,
     "metadata": {},
     "output_type": "execute_result"
    }
   ],
   "source": [
    "a=np.random.randint(1,20,(5))\n",
    "print(\"first array\")\n",
    "print(a)\n",
    "b=np.random.randint(1,20,(5))\n",
    "print(\"second array\")\n",
    "print(b)\n",
    "c=np.array([a+b for a,b in zip(a,b)])\n",
    "print(\"zip function\")\n",
    "print(c)\n",
    "d=np.add(a,b)\n",
    "print(\"add function\")\n",
    "print(d)\n",
    "def add(set1, set2):\n",
    " for i in range(len(set1)):\n",
    "    set1[i] += set2[i]\n",
    "    return set1\n",
    "add(a,b)\n",
    "\n"
   ]
  },
  {
   "cell_type": "markdown",
   "metadata": {},
   "source": [
    "Q5. Find the LCM (Least Common Multiple) and GCD (Greatest Common Divisor) of an array\n",
    "of elements using reduce()."
   ]
  },
  {
   "cell_type": "code",
   "execution_count": 8,
   "metadata": {},
   "outputs": [
    {
     "name": "stdout",
     "output_type": "stream",
     "text": [
      "LCM: 15\n",
      "GCD: 5\n"
     ]
    }
   ],
   "source": [
    "\n",
    "from functools import reduce\n",
    "import numpy as np\n",
    "from math import gcd\n",
    "input_str = input(\"Enter values for the array comma-separated: \")\n",
    "a = np.array([int(x) for x in input_str.split(',')])\n",
    "def calculate_lcm(x, y):\n",
    " return x * y // gcd(x, y)\n",
    "def calculate_gcd(x, y):\n",
    " while y != 0:\n",
    "     x, y = y, x % y\n",
    "     return x\n",
    "lcm = reduce(calculate_lcm, a)\n",
    "gcd = reduce(calculate_gcd, a)\n",
    "print(\"LCM:\", lcm)\n",
    "print(\"GCD:\", gcd)\n"
   ]
  }
 ],
 "metadata": {
  "kernelspec": {
   "display_name": "Python 3",
   "language": "python",
   "name": "python3"
  },
  "language_info": {
   "codemirror_mode": {
    "name": "ipython",
    "version": 3
   },
   "file_extension": ".py",
   "mimetype": "text/x-python",
   "name": "python",
   "nbconvert_exporter": "python",
   "pygments_lexer": "ipython3",
   "version": "3.9.13"
  },
  "orig_nbformat": 4
 },
 "nbformat": 4,
 "nbformat_minor": 2
}

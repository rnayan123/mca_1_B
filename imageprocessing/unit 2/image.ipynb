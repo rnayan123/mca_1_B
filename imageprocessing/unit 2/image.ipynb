{
 "cells": [
  {
   "cell_type": "markdown",
   "metadata": {},
   "source": [
    "using basemap package do the following\n",
    "\n",
    "locate karnataka\n",
    "plot bangalore\n",
    "apply all the funnctions we discussed yesterday"
   ]
  },
  {
   "cell_type": "code",
   "execution_count": null,
   "metadata": {},
   "outputs": [],
   "source": []
  }
 ],
 "metadata": {
  "language_info": {
   "name": "python"
  }
 },
 "nbformat": 4,
 "nbformat_minor": 2
}

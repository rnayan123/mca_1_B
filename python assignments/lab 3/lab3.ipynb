{
 "cells": [
  {
   "cell_type": "code",
   "execution_count": 2,
   "metadata": {},
   "outputs": [
    {
     "name": "stdout",
     "output_type": "stream",
     "text": [
      "{'name': 'nayan', 'domain_name': 'universitycanteenmanagement', 'regno': '2347240'}\n"
     ]
    }
   ],
   "source": [
    "str=input(\"enter the string\")\n",
    "def stringsplit():\n",
    " x=str.split(\"__\")\n",
    " dict={\"name\":x[0],\"domain_name\":x[1],\"regno\":x[2]}\n",
    " print(dict)\n",
    "stringsplit()\n"
   ]
  }
 ],
 "metadata": {
  "kernelspec": {
   "display_name": "Python 3",
   "language": "python",
   "name": "python3"
  },
  "language_info": {
   "codemirror_mode": {
    "name": "ipython",
    "version": 3
   },
   "file_extension": ".py",
   "mimetype": "text/x-python",
   "name": "python",
   "nbconvert_exporter": "python",
   "pygments_lexer": "ipython3",
   "version": "3.9.13"
  },
  "orig_nbformat": 4
 },
 "nbformat": 4,
 "nbformat_minor": 2
}

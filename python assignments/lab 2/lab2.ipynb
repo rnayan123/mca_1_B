{
 "cells": [
  {
   "cell_type": "code",
   "execution_count": 2,
   "metadata": {},
   "outputs": [
    {
     "name": "stdout",
     "output_type": "stream",
     "text": [
      "{'hyundai': 'creta', 'tata': 'nexon', 'suzuki': 'swift'}\n",
      "food item id\n",
      "food item name\n",
      "firstname\n",
      "description\n",
      "price\n",
      "category\n",
      "avaibility\n",
      "lastname,email,phonenumber\n"
     ]
    }
   ],
   "source": [
    "mylist=[\"food item id\",\"food item name\",\"description\",\"price\",\"category\"]\n",
    "mylist2=[\"lastname,email,phonenumber\"]\n",
    "i=0\n",
    "mylist.append(\"avaibility\")\n",
    "mylist.insert(2,\"firstname\")\n",
    "mylist.extend(mylist2)\n",
    "dict={\"hyundai\":\"creta\",\"tata\":\"nexon\",\"suzuki\":\"swift\"}\n",
    "mylist.append(dict)\n",
    "for i in range(0,len(mylist)):\n",
    "    print(mylist[i-1])"
   ]
  },
  {
   "cell_type": "code",
   "execution_count": 3,
   "metadata": {},
   "outputs": [
    {
     "name": "stdout",
     "output_type": "stream",
     "text": [
      "0\n",
      "5\n",
      "8\n",
      "8\n",
      "11\n",
      "1\n",
      "2\n"
     ]
    }
   ],
   "source": [
    "mylist=[2,5,8,8,11,1,0]\n",
    "i=0\n",
    "sum=0\n",
    "a=len(mylist)\n",
    "temp=mylist[0]\n",
    "mylist[0]=mylist[a-1]\n",
    "mylist[a-1]=temp\n",
    "for i in range(0,len(mylist)):\n",
    "    print(mylist[i])\n"
   ]
  },
  {
   "cell_type": "code",
   "execution_count": 4,
   "metadata": {},
   "outputs": [
    {
     "name": "stdout",
     "output_type": "stream",
     "text": [
      "sum is 35\n"
     ]
    }
   ],
   "source": [
    "mylist=[2,5,8,8,11,1,0]\n",
    "i=0\n",
    "sum=0\n",
    "for i in range(0,len(mylist)):\n",
    "    sum=sum+mylist[i]\n",
    "print(\"sum is\",sum)"
   ]
  },
  {
   "cell_type": "code",
   "execution_count": 5,
   "metadata": {},
   "outputs": [
    {
     "name": "stdout",
     "output_type": "stream",
     "text": [
      "the smallest number is  0\n"
     ]
    }
   ],
   "source": [
    "mylist=[2,5,8,8,11,1,0]\n",
    "mylist.sort()\n",
    "print(\"the smallest number is \",mylist[0])"
   ]
  },
  {
   "cell_type": "code",
   "execution_count": 6,
   "metadata": {},
   "outputs": [
    {
     "name": "stdout",
     "output_type": "stream",
     "text": [
      "['mohan', 'ram', 'shyam', 'sonu']\n"
     ]
    }
   ],
   "source": [
    "dict={\"ram\":22,\"shyam\":20,\"sonu\":18,\"mohan\":11}\n",
    "a=sorted(dict.keys())\n",
    "print(a)\n"
   ]
  },
  {
   "cell_type": "code",
   "execution_count": 1,
   "metadata": {},
   "outputs": [
    {
     "name": "stdout",
     "output_type": "stream",
     "text": [
      "the sum values is 71\n"
     ]
    }
   ],
   "source": [
    "dict={\"ram\":22,\"shyam\":20,\"sonu\":18,\"mohan\":11}\n",
    "sum = 0\n",
    "for keys in dict:\n",
    "    sum += dict[keys]\n",
    "print(\"the sum values is\",sum)\n"
   ]
  },
  {
   "cell_type": "code",
   "execution_count": 2,
   "metadata": {},
   "outputs": [
    {
     "name": "stdout",
     "output_type": "stream",
     "text": [
      "[('num2', 100), ('num1', 4), ('num3', 2), ('num4', 1)]\n"
     ]
    }
   ],
   "source": [
    "dict = {\"num1\": 4, \"num2\": 100, \"num3\": 2, \"num4\": 1}\n",
    "sort = sorted(dict.items(), key = lambda x: x[1], reverse=True)\n",
    "print(sort)"
   ]
  }
 ],
 "metadata": {
  "kernelspec": {
   "display_name": "Python 3",
   "language": "python",
   "name": "python3"
  },
  "language_info": {
   "codemirror_mode": {
    "name": "ipython",
    "version": 3
   },
   "file_extension": ".py",
   "mimetype": "text/x-python",
   "name": "python",
   "nbconvert_exporter": "python",
   "pygments_lexer": "ipython3",
   "version": "3.9.13"
  },
  "orig_nbformat": 4
 },
 "nbformat": 4,
 "nbformat_minor": 2
}

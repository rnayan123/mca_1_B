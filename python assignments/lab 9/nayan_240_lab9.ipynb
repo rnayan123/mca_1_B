{
 "cells": [
  {
   "cell_type": "code",
   "execution_count": 1,
   "metadata": {},
   "outputs": [
    {
     "name": "stdout",
     "output_type": "stream",
     "text": [
      "Simple Indexing: 4\n",
      "Fancy Indexing: [2 3 6 8]\n"
     ]
    }
   ],
   "source": [
    "import numpy as np\n",
    "\n",
    "array1 = np.array([1, 2, 3, 4, 5, 6, 7, 8])\n",
    "\n",
    "simple_indexing = array1[3]\n",
    "\n",
    "print(\"Simple Indexing:\",simple_indexing)   \n",
    "\n",
    "\n",
    "fancy_indexing = array1[[1, 2, 5, 7]]\n",
    "\n",
    "print(\"Fancy Indexing:\",fancy_indexing)   "
   ]
  },
  {
   "cell_type": "code",
   "execution_count": null,
   "metadata": {},
   "outputs": [],
   "source": [
    "import numpy as np\n",
    "\n",
    "array1 = np.array([[1, 3, 5, 7], \n",
    "                      [9, 11, 13, 15],\n",
    "                      [2, 4, 6, 8]])\n",
    "\n",
    "\n",
    "# slice the array to get the first two rows and columns\n",
    "subarray1 = array1[:2, :2]\n",
    "\n",
    "# slice the array to get the last two rows and columns\n",
    "subarray2 = array1[1:3, 2:4]\n",
    "\n",
    "# print the subarrays\n",
    "print(\"First Two Rows and Columns: \\n\",subarray1)\n",
    "print(\"Last two Rows and Columns: \\n\",subarray2)"
   ]
  }
 ],
 "metadata": {
  "kernelspec": {
   "display_name": "Python 3",
   "language": "python",
   "name": "python3"
  },
  "language_info": {
   "codemirror_mode": {
    "name": "ipython",
    "version": 3
   },
   "file_extension": ".py",
   "mimetype": "text/x-python",
   "name": "python",
   "nbconvert_exporter": "python",
   "pygments_lexer": "ipython3",
   "version": "3.9.13"
  },
  "orig_nbformat": 4
 },
 "nbformat": 4,
 "nbformat_minor": 2
}

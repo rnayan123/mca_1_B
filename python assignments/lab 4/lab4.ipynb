{
 "cells": [
  {
   "cell_type": "code",
   "execution_count": 1,
   "metadata": {},
   "outputs": [
    {
     "name": "stdout",
     "output_type": "stream",
     "text": [
      "food item : burger\n",
      "bill : 1500\n"
     ]
    }
   ],
   "source": [
    "\n",
    "class food:\n",
    "    fooditem= \"\"\n",
    "def mother(self):\n",
    "    print(self.fooditem)\n",
    "# Base class2\n",
    "class price:\n",
    "    foodprice = \"\"\n",
    "def father(self):\n",
    "    print(self.foodprice)\n",
    "# Derived class\n",
    "class order(food, price):\n",
    "   def bill(self):\n",
    "        print(\"food item :\", self.fooditem)\n",
    "        print(\"bill :\", self.foodprice)\n",
    "# Driver's code\n",
    "s1 = order()\n",
    "s1.fooditem = \"burger\"\n",
    "s1.foodprice = 1500\n",
    "s1.bill()\n"
   ]
  },
  {
   "cell_type": "code",
   "execution_count": 2,
   "metadata": {},
   "outputs": [
    {
     "name": "stdout",
     "output_type": "stream",
     "text": [
      "staffname : ram\n",
      "salary status : paid\n",
      "salary is : 15000\n"
     ]
    }
   ],
   "source": [
    "class staff:\n",
    "    def __init__(self, staffname):\n",
    "        self.staffname = staffname\n",
    "class salary(staff):\n",
    "     def __init__(self, staffname, salary): # Corrected order of parameters\n",
    "        self.salary = salary\n",
    "        super().__init__(staffname)\n",
    "class paymentstatus(salary):\n",
    "    def __init__(self, staffname, salary, status): # Corrected order of parameters\n",
    "        self.status = status\n",
    "        super().__init__(staffname, salary)\n",
    "\n",
    "    def salarystatus(self):\n",
    "        print('staffname :', self.staffname)\n",
    "        print(\"salary status :\", self.status)\n",
    "        print(\"salary is :\", self.salary)\n",
    "s1 = paymentstatus('ram', 15000, 'paid') # Corrected order of arguments\n",
    "s1.salarystatus()"
   ]
  },
  {
   "cell_type": "code",
   "execution_count": 3,
   "metadata": {},
   "outputs": [
    {
     "name": "stdout",
     "output_type": "stream",
     "text": [
      "The shop name is mingos\n",
      "The shop name is mingos\n",
      "It has Chinese cuisine\n",
      "The shop name is mingos\n",
      "The food is available\n"
     ]
    }
   ],
   "source": [
    "class Shop:\n",
    " def shopname(self):\n",
    "     print(\"The shop name is mingos\")\n",
    "class CuisineType(Shop):\n",
    "    def cuisine(self):\n",
    "        print(\"It has Chinese cuisine\")\n",
    "class FoodAvailability(Shop):\n",
    "    def availability(self):\n",
    "        print(\"The food is available\")\n",
    "object1 = Shop()\n",
    "object2 = CuisineType()\n",
    "object3 = FoodAvailability()\n",
    "object1.shopname()\n",
    "object2.shopname()\n",
    "object2.cuisine()\n",
    "object3.shopname()\n",
    "object3.availability()\n"
   ]
  }
 ],
 "metadata": {
  "kernelspec": {
   "display_name": "Python 3",
   "language": "python",
   "name": "python3"
  },
  "language_info": {
   "codemirror_mode": {
    "name": "ipython",
    "version": 3
   },
   "file_extension": ".py",
   "mimetype": "text/x-python",
   "name": "python",
   "nbconvert_exporter": "python",
   "pygments_lexer": "ipython3",
   "version": "3.9.13"
  },
  "orig_nbformat": 4
 },
 "nbformat": 4,
 "nbformat_minor": 2
}

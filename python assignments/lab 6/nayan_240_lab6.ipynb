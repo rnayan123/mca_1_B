{
 "cells": [
  {
   "cell_type": "markdown",
   "metadata": {},
   "source": [
    "###\n",
    "<pre>\n",
    "    Q1. Write a program using the Regular Exception and create a function that accepts a string \n",
    "    and searches it for a valid phone number.\n",
    "    Return the phone number if found.\n",
    "    A valid phone number may be one of the following:\n",
    "    (xxx)-xxx-xxxx\n",
    "    xxx-xxx-xxxx\n",
    "</pre>\n"
   ]
  },
  {
   "cell_type": "code",
   "execution_count": 19,
   "metadata": {},
   "outputs": [
    {
     "name": "stdout",
     "output_type": "stream",
     "text": [
      "Looks Good\n",
      "Looks Good\n",
      "Looks Good\n",
      "Enter a valid Phone Number\n"
     ]
    }
   ],
   "source": [
    "import re\n",
    "\n",
    "def check_number(number):\n",
    "\n",
    "    if re.search(r\"^(\\(?[0-9][0-9][0-9]\\)?|[0-9][0-9][0-9])(-?)([0-9][0-9][0-9])(-?)([0-9][0-9][0-9][0-9])$\", number):\n",
    "        print(\"Looks Good - Valid Phone Number\")\n",
    "    else:\n",
    "        print(\"Enter a valid Phone Number\")\n",
    "\n",
    "\n",
    "number = \"(132)-456-7890\"\n",
    "number2 = \"123-456-9876\"\n",
    "number3 = \"1234567890\"\n",
    "\n",
    "check_number(number)\n",
    "check_number(number2)\n",
    "check_number(number3)\n",
    "\n",
    "number4 = \"1234567890122\"\n",
    "check_number(number4)"
   ]
  },
  {
   "cell_type": "markdown",
   "metadata": {},
   "source": [
    "<pre>\n",
    "Q2. Write a function that employs regular expressions to ensure the password given to the function is strong.\n",
    "A strong password is defined as follows:\n",
    "·       at least eight characters long\n",
    "·       contains one uppercase character\n",
    "·       contains one lowercase character\n",
    "·       has at least one digit\n",
    "·       has at least one special character\n",
    "[For instance: Christ@123]\n",
    "\n",
    "</pre>"
   ]
  },
  {
   "cell_type": "code",
   "execution_count": 26,
   "metadata": {},
   "outputs": [
    {
     "name": "stdout",
     "output_type": "stream",
     "text": [
      "PASSWORD CREATED IS STRONG.\n"
     ]
    }
   ],
   "source": [
    "import re\n",
    "def check_password_strength(password):\n",
    "    \n",
    "    pattern = r'^(?=.*[A-Z])(?=.*[a-z])(?=.*\\d)(?=.*[@$!%*?&])[A-Za-z\\d@$!%*?&]{8,}$'\n",
    "\n",
    "    if re.match(pattern, password):\n",
    "        return True\n",
    "    else:\n",
    "        return False\n",
    "    \n",
    "# User input section\n",
    "password = input(\"PLEASE ENTER YOUR PASSWORD : \")\n",
    "# Condition for checking the password\n",
    "if check_password_strength(password):\n",
    "    print(\"PASSWORD CREATED IS STRONG.\")\n",
    "else:\n",
    "    print(\"PASSWORD CREATED IS NOT STRONG.\")"
   ]
  }
 ],
 "metadata": {
  "kernelspec": {
   "display_name": "Python 3",
   "language": "python",
   "name": "python3"
  },
  "language_info": {
   "codemirror_mode": {
    "name": "ipython",
    "version": 3
   },
   "file_extension": ".py",
   "mimetype": "text/x-python",
   "name": "python",
   "nbconvert_exporter": "python",
   "pygments_lexer": "ipython3",
   "version": "3.11.4"
  },
  "orig_nbformat": 4
 },
 "nbformat": 4,
 "nbformat_minor": 2
}

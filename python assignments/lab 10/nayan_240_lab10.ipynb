{
 "cells": [
  {
   "cell_type": "code",
   "execution_count": 2,
   "metadata": {},
   "outputs": [],
   "source": [
    "import tkinter as tk\n",
    "from tkinter import messagebox\n",
    "\n",
    "menu_items = [\n",
    "    {\"name\": \"Burger\", \"price\": 5.99},\n",
    "    {\"name\": \"Pizza\", \"price\": 7.99},\n",
    "    {\"name\": \"Salad\", \"price\": 4.99},\n",
    "]\n",
    "\n",
    "def display_menu():\n",
    "    menu_listbox.delete(0, tk.END)\n",
    "    for item in menu_items:\n",
    "        menu_listbox.insert(tk.END, f\"{item['name']} - ${item['price']}\")\n",
    "\n",
    "def add_menu_item():\n",
    "    name = name_entry.get()\n",
    "    price = price_entry.get()\n",
    "    if name and price:\n",
    "        menu_items.append({\"name\": name, \"price\": float(price)})\n",
    "        display_menu()\n",
    "        name_entry.delete(0, tk.END)\n",
    "        price_entry.delete(0, tk.END)\n",
    "    else:\n",
    "        messagebox.showwarning(\"Warning\", \"Please enter both name and price.\")\n",
    "\n",
    "root = tk.Tk()\n",
    "root.title(\"University Canteen Management\")\n",
    "\n",
    "menu_label = tk.Label(root, text=\"Menu\")\n",
    "menu_label.pack()\n",
    "\n",
    "menu_listbox = tk.Listbox(root, width=40, height=10)\n",
    "menu_listbox.pack()\n",
    "\n",
    "display_menu()\n",
    "\n",
    "name_label = tk.Label(root, text=\"Item Name:\")\n",
    "name_label.pack()\n",
    "\n",
    "name_entry = tk.Entry(root)\n",
    "name_entry.pack()\n",
    "\n",
    "price_label = tk.Label(root, text=\"Item Price:\")\n",
    "price_label.pack()\n",
    "\n",
    "price_entry = tk.Entry(root)\n",
    "price_entry.pack()\n",
    "\n",
    "add_button = tk.Button(root, text=\"Add Item\", command=add_menu_item)\n",
    "add_button.pack()\n",
    "\n",
    "\n",
    "root.mainloop()\n"
   ]
  }
 ],
 "metadata": {
  "kernelspec": {
   "display_name": "Python 3",
   "language": "python",
   "name": "python3"
  },
  "language_info": {
   "codemirror_mode": {
    "name": "ipython",
    "version": 3
   },
   "file_extension": ".py",
   "mimetype": "text/x-python",
   "name": "python",
   "nbconvert_exporter": "python",
   "pygments_lexer": "ipython3",
   "version": "3.9.13"
  },
  "orig_nbformat": 4
 },
 "nbformat": 4,
 "nbformat_minor": 2
}
